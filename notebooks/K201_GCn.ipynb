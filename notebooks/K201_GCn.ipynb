{
 "cells": [
  {
   "cell_type": "markdown",
   "metadata": {},
   "source": [
    "# Seguimos con el dataset en python"
   ]
  },
  {
   "cell_type": "code",
   "execution_count": null,
   "metadata": {},
   "outputs": [],
   "source": [
    "import pandas as pd\n",
    "import numpy as np\n",
    "import seaborn as sns\n",
    "import matplotlib.pyplot as plt\n",
    "\n",
    "from sklearn.model_selection import train_test_split\n",
    "from sklearn.model_selection import ShuffleSplit, StratifiedShuffleSplit\n",
    "from sklearn.ensemble import RandomForestClassifier\n",
    "from sklearn.impute import SimpleImputer\n",
    "\n",
    "import lightgbm as lgb\n",
    "\n",
    "import optuna\n",
    "from optuna.visualization import plot_optimization_history, plot_param_importances, plot_slice, plot_contour\n",
    "\n",
    "from time import time\n",
    "\n",
    "import pickle"
   ]
  },
  {
   "cell_type": "code",
   "execution_count": null,
   "metadata": {},
   "outputs": [],
   "source": [
    "dataset_path = 'buckets/b1/datasets/' \n",
    "dataset_file = 'competencia_02_sql_v2.csv'\n",
    "\n",
    "# buckets/b1/datasets/competencia_02_sql_v2.csv\n",
    "\n",
    "base_path = 'buckets/b1/'\n",
    "modelos_path = base_path + 'modelos/'\n",
    "db_path = base_path + 'db/'\n",
    "\n",
    "ganancia_acierto = 273000\n",
    "costo_estimulo = 7000\n",
    "\n",
    "data = pd.read_csv(dataset_path+dataset_file)"
   ]
  },
  {
   "cell_type": "code",
   "execution_count": null,
   "metadata": {},
   "outputs": [],
   "source": [
    "semillas = [165229,165211,165203,165237,165247]\n",
    "\n",
    "mes_train = 202106\n",
    "mes_test = 202108\n",
    "\n",
    "data['clase_peso'] = 1.0\n",
    "\n",
    "data.loc[data['clase_ternaria'] == 'BAJA+2', 'clase_peso'] = 1.00002\n",
    "data.loc[data['clase_ternaria'] == 'BAJA+1', 'clase_peso'] = 1.00001"
   ]
  },
  {
   "cell_type": "code",
   "execution_count": null,
   "metadata": {},
   "outputs": [],
   "source": [
    "#data['clase_binaria1'] = 0\n",
    "data['clase_binaria2'] = 0\n",
    "#data['clase_binaria1'] = np.where(data['clase_ternaria'] == 'BAJA+2', 1, 0)\n",
    "data['clase_binaria2'] = np.where(data['clase_ternaria'] == 'CONTINUA', 0, 1) # la binaria2 incluye a los BAJA+1\n",
    "\n",
    "# tirar la que no usas"
   ]
  },
  {
   "cell_type": "code",
   "execution_count": null,
   "metadata": {},
   "outputs": [],
   "source": [
    "data.drop(columns=['mprestamos_personales', 'cprestamos_personales'], inplace = True)"
   ]
  },
  {
   "cell_type": "code",
   "execution_count": null,
   "metadata": {},
   "outputs": [],
   "source": [
    "train_data = data[data['foto_mes'] == mes_train]\n",
    "test_data = data[data['foto_mes'] == mes_test]\n",
    "\n",
    "X_train = train_data.drop(['clase_ternaria', 'clase_peso','clase_binaria2'], axis=1)  # , 'clase_binaria1'\n",
    "#y_train_binaria1 = train_data['clase_binaria1']\n",
    "y_train_binaria2 = train_data['clase_binaria2']\n",
    "w_train = train_data['clase_peso']\n",
    "\n",
    "X_test = test_data.drop(['clase_ternaria', 'clase_peso','clase_binaria2'], axis=1)  # , 'clase_binaria1'\n",
    "# y_test_binaria1 = test_data['clase_binaria1']\n",
    "y_test_binaria2 = test_data['clase_binaria2']\n",
    "y_test_class = test_data['clase_ternaria']\n",
    "w_test = test_data['clase_peso']"
   ]
  },
  {
   "cell_type": "code",
   "execution_count": null,
   "metadata": {},
   "outputs": [],
   "source": [
    "imp_mean = SimpleImputer(missing_values=np.nan, strategy='mean')  # podemos intentar otras imputaciones y ver que tal\n",
    "Xif = imp_mean.fit_transform(X_test)"
   ]
  },
  {
   "cell_type": "code",
   "execution_count": null,
   "metadata": {},
   "outputs": [],
   "source": [
    "def lgb_gan_eval(y_pred, data):\n",
    "    weight = data.get_weight()\n",
    "    ganancia = np.where(weight == 1.00002, ganancia_acierto, 0) - np.where(weight < 1.00002, costo_estimulo, 0)\n",
    "    ganancia = ganancia[np.argsort(y_pred)[::-1]]\n",
    "    ganancia = np.cumsum(ganancia)\n",
    "\n",
    "    return 'gan_eval', np.max(ganancia) , True\n",
    "\n",
    "# Parámetros del modelos.\n",
    "params = {\n",
    "    'objective': 'binary',\n",
    "    'metric': 'gan_eval',\n",
    "    'boosting_type': 'gbdt',\n",
    "    'max_bin': 31,\n",
    "    'num_leaves': 31,\n",
    "    'learning_rate': 0.01,\n",
    "    'feature_fraction': 0.3,\n",
    "    'bagging_fraction': 0.7,\n",
    "    'verbose': 0\n",
    "}"
   ]
  },
  {
   "cell_type": "code",
   "execution_count": null,
   "metadata": {},
   "outputs": [],
   "source": [
    "# train_data1 = lgb.Dataset(X_train, label=y_train_binaria1, weight=w_train)\n",
    "train_data2 = lgb.Dataset(X_train, label=y_train_binaria2, weight=w_train)"
   ]
  },
  {
   "cell_type": "markdown",
   "metadata": {},
   "source": [
    "# LGBM"
   ]
  },
  {
   "cell_type": "code",
   "execution_count": null,
   "metadata": {},
   "outputs": [
    {
     "name": "stderr",
     "output_type": "stream",
     "text": [
      "[I 2024-11-02 12:30:02,375] Using an existing study with name 'exp_201_lgbm' instead of creating a new one.\n"
     ]
    }
   ],
   "source": [
    "\n",
    "def objective(trial):\n",
    "\n",
    "    num_leaves = trial.suggest_int('num_leaves', 8, 100),\n",
    "    learning_rate = trial.suggest_float('learning_rate', 0.005, 0.3), # mas bajo, más iteraciones necesita\n",
    "    min_data_in_leaf = trial.suggest_int('min_data_in_leaf', 1, 1000),\n",
    "    feature_fraction = trial.suggest_float('feature_fraction', 0.1, 1.0),\n",
    "    bagging_fraction = trial.suggest_float('bagging_fraction', 0.1, 1.0),\n",
    "\n",
    "    params = {\n",
    "        'objective': 'binary',\n",
    "        'metric': 'custom',\n",
    "        'boosting_type': 'gbdt',\n",
    "        'first_metric_only': True,\n",
    "        'boost_from_average': True,\n",
    "        'feature_pre_filter': False,\n",
    "        'max_bin': 31,\n",
    "        'num_leaves': num_leaves,\n",
    "        'learning_rate': learning_rate,\n",
    "        'min_data_in_leaf': min_data_in_leaf,\n",
    "        'feature_fraction': feature_fraction,\n",
    "        'bagging_fraction': bagging_fraction,\n",
    "        'seed': semillas[0],\n",
    "        'verbose': -1\n",
    "    }\n",
    "    train_data = lgb.Dataset(X_train,\n",
    "                              label=y_train_binaria2, # eligir la clase\n",
    "                              weight=w_train)\n",
    "    cv_results = lgb.cv(\n",
    "        params,\n",
    "        train_data,\n",
    "        num_boost_round=100, # modificar, subit y subir... y descomentar la línea inferior\n",
    "        # early_stopping_rounds= int(50 + 5 / learning_rate),\n",
    "        feval=lgb_gan_eval,\n",
    "        stratified=True,\n",
    "        nfold=5,\n",
    "        seed=semillas[0]\n",
    "    )\n",
    "    max_gan = max(cv_results['valid gan_eval-mean'])\n",
    "    best_iter = cv_results['valid gan_eval-mean'].index(max_gan) + 1\n",
    "\n",
    "    # Guardamos cual es la mejor iteración del modelo\n",
    "    trial.set_user_attr(\"best_iter\", best_iter)\n",
    "\n",
    "    return max_gan * 5\n",
    "\n",
    "\n",
    "storage_name = \"sqlite:///\" + db_path + \"optimization_lgbm.db\"\n",
    "study_name = \"exp_201_lgbm\"  # cambiar acá si es otra corrida\n",
    "\n",
    "study = optuna.create_study(\n",
    "    direction=\"maximize\",\n",
    "    study_name=study_name,\n",
    "    storage=storage_name,\n",
    "    load_if_exists=True,\n",
    ")"
   ]
  },
  {
   "cell_type": "code",
   "execution_count": null,
   "metadata": {},
   "outputs": [
    {
     "name": "stderr",
     "output_type": "stream",
     "text": [
      "[I 2024-11-02 12:30:13,399] Trial 5 finished with value: 86926000.0 and parameters: {'num_leaves': 94, 'learning_rate': 0.24632465779747317, 'min_data_in_leaf': 99, 'feature_fraction': 0.807020176725217, 'bagging_fraction': 0.22019281202055624}. Best is trial 3 with value: 146958000.0.\n",
      "[I 2024-11-02 12:30:20,986] Trial 6 finished with value: 103572000.0 and parameters: {'num_leaves': 18, 'learning_rate': 0.09437866362189212, 'min_data_in_leaf': 710, 'feature_fraction': 0.47428615784712735, 'bagging_fraction': 0.6283286055326196}. Best is trial 3 with value: 146958000.0.\n",
      "[I 2024-11-02 12:30:29,031] Trial 7 finished with value: 101318000.0 and parameters: {'num_leaves': 44, 'learning_rate': 0.1164989154647706, 'min_data_in_leaf': 77, 'feature_fraction': 0.5777591673309779, 'bagging_fraction': 0.6688446727689996}. Best is trial 3 with value: 146958000.0.\n",
      "[I 2024-11-02 12:30:37,201] Trial 8 finished with value: 100156000.0 and parameters: {'num_leaves': 62, 'learning_rate': 0.14865759084004015, 'min_data_in_leaf': 373, 'feature_fraction': 0.7882354236092831, 'bagging_fraction': 0.4909252628228512}. Best is trial 3 with value: 146958000.0.\n",
      "[I 2024-11-02 12:30:45,400] Trial 9 finished with value: 103810000.0 and parameters: {'num_leaves': 57, 'learning_rate': 0.08117816861028379, 'min_data_in_leaf': 730, 'feature_fraction': 0.3254172821861278, 'bagging_fraction': 0.9093727056126863}. Best is trial 3 with value: 146958000.0.\n",
      "[I 2024-11-02 12:30:51,594] Trial 10 finished with value: 99463000.0 and parameters: {'num_leaves': 8, 'learning_rate': 0.19931770206188767, 'min_data_in_leaf': 999, 'feature_fraction': 0.977784369047838, 'bagging_fraction': 0.9485940171492157}. Best is trial 3 with value: 146958000.0.\n",
      "[I 2024-11-02 12:31:00,685] Trial 11 finished with value: 97664000.0 and parameters: {'num_leaves': 74, 'learning_rate': 0.1854579023694798, 'min_data_in_leaf': 930, 'feature_fraction': 0.38371731987474134, 'bagging_fraction': 0.37977676243431163}. Best is trial 3 with value: 146958000.0.\n",
      "[I 2024-11-02 12:31:08,551] Trial 12 finished with value: 88991000.0 and parameters: {'num_leaves': 38, 'learning_rate': 0.2938185622440059, 'min_data_in_leaf': 450, 'feature_fraction': 0.5944915756060132, 'bagging_fraction': 0.360816881490527}. Best is trial 3 with value: 146958000.0.\n",
      "[I 2024-11-02 12:31:16,916] Trial 13 finished with value: 100415000.0 and parameters: {'num_leaves': 71, 'learning_rate': 0.155029602471791, 'min_data_in_leaf': 304, 'feature_fraction': 0.3219600724069048, 'bagging_fraction': 0.8204354131328346}. Best is trial 3 with value: 146958000.0.\n",
      "[I 2024-11-02 12:31:26,319] Trial 14 finished with value: 101052000.0 and parameters: {'num_leaves': 49, 'learning_rate': 0.15357693492742627, 'min_data_in_leaf': 819, 'feature_fraction': 0.4696461882656025, 'bagging_fraction': 0.4718688573802639}. Best is trial 3 with value: 146958000.0.\n"
     ]
    }
   ],
   "source": [
    "study.optimize(objective, n_trials=10) # subir subir"
   ]
  },
  {
   "cell_type": "code",
   "execution_count": null,
   "metadata": {},
   "outputs": [
    {
     "name": "stdout",
     "output_type": "stream",
     "text": [
      "Mejor cantidad de árboles para el mejor model 82\n"
     ]
    }
   ],
   "source": [
    "best_iter = study.best_trial.user_attrs[\"best_iter\"]\n",
    "print(f\"Mejor cantidad de árboles para el mejor model {best_iter}\")\n",
    "params = {\n",
    "    'objective': 'binary',\n",
    "    'boosting_type': 'gbdt',\n",
    "    'first_metric_only': True,\n",
    "    'boost_from_average': True,\n",
    "    'feature_pre_filter': False,\n",
    "    'max_bin': 31,\n",
    "    'num_leaves': study.best_trial.params['num_leaves'],\n",
    "    'learning_rate': study.best_trial.params['learning_rate'],\n",
    "    'min_data_in_leaf': study.best_trial.params['min_data_in_leaf'],\n",
    "    'feature_fraction': study.best_trial.params['feature_fraction'],\n",
    "    'bagging_fraction': study.best_trial.params['bagging_fraction'],\n",
    "    'seed': semillas[0],\n",
    "    'verbose': 0\n",
    "}\n",
    "\n",
    "train_data = lgb.Dataset(X_train,\n",
    "                          label=y_train_binaria2,\n",
    "                          weight=w_train)\n",
    "\n",
    "model = lgb.train(params,\n",
    "                  train_data,\n",
    "                  num_boost_round=best_iter)"
   ]
  },
  {
   "cell_type": "code",
   "execution_count": null,
   "metadata": {},
   "outputs": [
    {
     "data": {
      "text/plain": [
       "<lightgbm.basic.Booster at 0x219cb296510>"
      ]
     },
     "execution_count": 61,
     "metadata": {},
     "output_type": "execute_result"
    }
   ],
   "source": [
    "# guardamos modelos\n",
    "\n",
    "model.save_model(modelos_path + 'lgb_k201.txt')"
   ]
  },
  {
   "cell_type": "code",
   "execution_count": null,
   "metadata": {},
   "outputs": [],
   "source": [
    "# levantamos modelo\n",
    "\n",
    "model = lgb.Booster(model_file=modelos_path + 'lgb_k201.txt')"
   ]
  },
  {
   "cell_type": "code",
   "execution_count": null,
   "metadata": {},
   "outputs": [],
   "source": [
    "# predecimos\n",
    "\n",
    "y_pred_lgm = model.predict(X_test)"
   ]
  },
  {
   "cell_type": "code",
   "execution_count": null,
   "metadata": {},
   "outputs": [
    {
     "name": "stdout",
     "output_type": "stream",
     "text": [
      "Ganancia LGBM: -100807000.0\n"
     ]
    }
   ],
   "source": [
    "def ganancia_prob(y_pred, y_true, prop = 1):\n",
    "  ganancia = np.where(y_true == 1, ganancia_acierto, 0) - np.where(y_true == 0, costo_estimulo, 0)\n",
    "  return ganancia[y_pred >= 0.025].sum() / prop\n",
    "\n",
    "print(\"Ganancia LGBM:\", ganancia_prob(y_pred_lgm, y_test_binaria2))\n"
   ]
  },
  {
   "cell_type": "markdown",
   "metadata": {},
   "source": [
    "## Entrenamos en Junio"
   ]
  },
  {
   "cell_type": "code",
   "execution_count": null,
   "metadata": {},
   "outputs": [],
   "source": [
    "mes_train = 202106\n",
    "mes_test = 202108\n",
    "X_futuro = data[data['foto_mes'] == mes_test]\n",
    "# y_futuro = X_futuro['clase_ternaria'] # tiene valores pero porque armaste el target como el orto\n",
    "X_futuro = X_futuro.drop(columns=['clase_ternaria', 'clase_peso','clase_binaria2'])\n",
    "Xif = imp_mean.fit_transform(X_futuro)"
   ]
  },
  {
   "cell_type": "code",
   "execution_count": null,
   "metadata": {},
   "outputs": [],
   "source": [
    "y_pred_rf = model.predict(Xif)"
   ]
  },
  {
   "cell_type": "markdown",
   "metadata": {},
   "source": [
    "### Salida a Kaggle"
   ]
  },
  {
   "cell_type": "code",
   "execution_count": null,
   "metadata": {},
   "outputs": [],
   "source": [
    "# GProbabilidades predichas\n",
    "predicted_prob = model.predict(Xif, raw_score=False, pred_leaf=False, pred_contrib=False)\n",
    "\n",
    "# Tomamos numero de cliente y proba\n",
    "df_predictions = pd.DataFrame({\n",
    "    'numero_de_cliente': X_futuro['numero_de_cliente'],\n",
    "    'probability': predicted_prob\n",
    "})\n",
    "\n",
    "# Ordenamos por proba de mayor a menor\n",
    "df_predictions = df_predictions.sort_values(by='probability', ascending=False)\n",
    "\n",
    "# Nos quedamos con los 12k de mayor probabilidad\n",
    "df_predictions['Predicted'] = 0  # Default to 0\n",
    "df_predictions.iloc[:12000, df_predictions.columns.get_loc('Predicted')] = 1  # Set top 10,000 to 1\n",
    "\n"
   ]
  },
  {
   "cell_type": "code",
   "execution_count": null,
   "metadata": {},
   "outputs": [],
   "source": [
    "# Formato Kaggle\n",
    "\n",
    "K201_002 = df_predictions[['numero_de_cliente', 'Predicted']]"
   ]
  },
  {
   "cell_type": "code",
   "execution_count": null,
   "metadata": {},
   "outputs": [],
   "source": [
    "# Guardamos\n",
    "\n",
    "file_path = 'buckets/b1/exp/KA2000/K201_002.csv'\n",
    "\n",
    "K201_002.to_csv(file_path, index=False)"
   ]
  }
 ],
 "metadata": {
  "kernelspec": {
   "display_name": "base",
   "language": "python",
   "name": "python3"
  },
  "language_info": {
   "codemirror_mode": {
    "name": "ipython",
    "version": 3
   },
   "file_extension": ".py",
   "mimetype": "text/x-python",
   "name": "python",
   "nbconvert_exporter": "python",
   "pygments_lexer": "ipython3",
   "version": "3.11.5"
  }
 },
 "nbformat": 4,
 "nbformat_minor": 2
}
