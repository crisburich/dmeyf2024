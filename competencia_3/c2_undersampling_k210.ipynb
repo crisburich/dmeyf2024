{
 "cells": [
  {
   "cell_type": "code",
   "execution_count": null,
   "metadata": {},
   "outputs": [],
   "source": [
    "%pip install imblearn"
   ]
  },
  {
   "cell_type": "code",
   "execution_count": null,
   "metadata": {},
   "outputs": [],
   "source": [
    "import pandas as pd\n",
    "import numpy as np\n",
    "from imblearn.under_sampling import RandomUnderSampler"
   ]
  },
  {
   "cell_type": "code",
   "execution_count": null,
   "metadata": {},
   "outputs": [],
   "source": [
    "base_path = '/home/cburich_pymnts/buckets/b1/'\n",
    "\n",
    "\n",
    "dataset_path = base_path + 'datasets/'\n",
    "dataset_file = 'competencia_02_fe_k210.csv'\n",
    "\n",
    "semillas = [165229,165211,165203,165237,165247]\n",
    "\n",
    "data = pd.read_csv(dataset_path + dataset_file)"
   ]
  },
  {
   "cell_type": "code",
   "execution_count": null,
   "metadata": {},
   "outputs": [],
   "source": [
    "data['clase_peso'] = 1.0\n",
    "\n",
    "data.loc[data['clase_ternaria'] == 'BAJA+2', 'clase_peso'] = 1.00002\n",
    "data.loc[data['clase_ternaria'] == 'BAJA+1', 'clase_peso'] = 1.00001"
   ]
  },
  {
   "cell_type": "code",
   "execution_count": null,
   "metadata": {},
   "outputs": [],
   "source": [
    "data['clase_binaria1'] = np.nan\n",
    "data['clase_binaria2'] = np.nan\n",
    "\n",
    "# Update values while keeping NaN as NaN\n",
    "data['clase_binaria1'] = np.where(data['clase_ternaria'] == 'BAJA+2', 1, \n",
    "                                  np.where(data['clase_ternaria'].isna(), np.nan, 0))\n",
    "data['clase_binaria2'] = np.where(data['clase_ternaria'] == 'CONTINUA', 0, \n",
    "                                  np.where(data['clase_ternaria'].isna(), np.nan, 1))"
   ]
  },
  {
   "cell_type": "code",
   "execution_count": null,
   "metadata": {},
   "outputs": [],
   "source": [
    "data.shape"
   ]
  },
  {
   "cell_type": "markdown",
   "metadata": {},
   "source": [
    "### UNDERSAMPLING"
   ]
  },
  {
   "cell_type": "code",
   "execution_count": null,
   "metadata": {},
   "outputs": [],
   "source": [
    "# Separar los datos de test (foto_mes == 202108)\n",
    "test_data = data[data['foto_mes'] == 202108]\n",
    "\n",
    "# Datos para el undersampling (excluyendo foto_mes == 202108)\n",
    "# train_data = data[data['foto_mes'] != 202108]\n",
    "train_data = data[(data['foto_mes'] != 202107) & (data['foto_mes'] != 202108)]\n",
    "\n",
    "# Calcular el ratio de las clases\n",
    "class_counts = train_data['clase_binaria2'].value_counts()\n",
    "class_1_count = class_counts[1]  # Cantidad de clase_binaria2 = 1\n",
    "class_0_count = class_counts[0]  # Cantidad de clase_binaria2 = 0\n",
    "\n",
    "# Ratio deseado: 10% de la clase minoritaria\n",
    "undersample_ratio = {0: int(class_1_count / 0.1), 1: class_1_count}\n",
    "\n",
    "# Dividir X (features) y y (target)\n",
    "X_train = train_data.drop(columns=['clase_binaria2'])\n",
    "y_train = train_data['clase_binaria2']\n",
    "\n",
    "# Aplicar RandomUnderSampler\n",
    "rus = RandomUnderSampler(sampling_strategy=undersample_ratio, random_state=42)\n",
    "X_resampled, y_resampled = rus.fit_resample(X_train, y_train)\n",
    "\n",
    "# Combinar datos resampleados\n",
    "resampled_train = X_resampled.copy()\n",
    "resampled_train['clase_binaria2'] = y_resampled\n",
    "\n",
    "# Reunir el dataset completo (entrenamiento + test)\n",
    "data_resampled = pd.concat([resampled_train, test_data])\n"
   ]
  },
  {
   "cell_type": "code",
   "execution_count": null,
   "metadata": {},
   "outputs": [],
   "source": [
    "# Verificar las proporciones después del undersampling\n",
    "print(data_resampled['clase_binaria2'].value_counts())\n"
   ]
  },
  {
   "cell_type": "code",
   "execution_count": null,
   "metadata": {},
   "outputs": [],
   "source": [
    "data_resampled.shape"
   ]
  },
  {
   "cell_type": "code",
   "execution_count": null,
   "metadata": {},
   "outputs": [],
   "source": [
    "# Exportar el DataFrame a un archivo CSV\n",
    "data_resampled.to_csv('/home/cburich_pymnts/buckets/b1/datasets/competencia_02_fe_U_k210.csv', index=False)\n"
   ]
  }
 ],
 "metadata": {
  "kernelspec": {
   "display_name": "base",
   "language": "python",
   "name": "python3"
  },
  "language_info": {
   "codemirror_mode": {
    "name": "ipython",
    "version": 3
   },
   "file_extension": ".py",
   "mimetype": "text/x-python",
   "name": "python",
   "nbconvert_exporter": "python",
   "pygments_lexer": "ipython3",
   "version": "3.11.5"
  }
 },
 "nbformat": 4,
 "nbformat_minor": 2
}
